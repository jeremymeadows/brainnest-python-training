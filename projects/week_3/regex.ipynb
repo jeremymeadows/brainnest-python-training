{
  "cells": [
    {
      "cell_type": "markdown",
      "metadata": {
        "id": "jAce9daMsKtH"
      },
      "source": [
        "1.  Write a regular expression that matches a date in the format dd/mm/yyyy. For example, the string \"01/01/2021\" should match."
      ]
    },
    {
      "cell_type": "code",
      "execution_count": 10,
      "metadata": {
        "id": "pp4ofvuDsKtM"
      },
      "outputs": [],
      "source": [
        "import re\n",
        "\n",
        "rexp = re.compile(r'^\\d{2}/\\d{2}/\\d{4}$')\n",
        "assert rexp.match('01/01/2021') is not None"
      ]
    },
    {
      "cell_type": "markdown",
      "metadata": {
        "id": "nHpGVZaksKtN"
      },
      "source": [
        "2. Write a regular expression that matches a phone number in the format xxx-xxx-xxxx, where x is a digit. For example, the string \"123-456-7890\" should match."
      ]
    },
    {
      "cell_type": "code",
      "execution_count": 4,
      "metadata": {
        "id": "3i3twp3DsKtN"
      },
      "outputs": [],
      "source": [
        "import re\n",
        "\n",
        "rexp = re.compile(r'^\\d{3}-\\d{3}-\\d{4}$')\n",
        "assert rexp.match('123-456-7890') is not None"
      ]
    },
    {
      "cell_type": "markdown",
      "metadata": {
        "id": "Dr8VKm-hsKtO"
      },
      "source": [
        "3. Write a regular expression that matches a valid email address. For example, the string \"example@example.com\" should match."
      ]
    },
    {
      "cell_type": "code",
      "execution_count": 5,
      "metadata": {
        "id": "tXay6y6HsKtO"
      },
      "outputs": [],
      "source": [
        "import re\n",
        "\n",
        "rexp = re.compile(r'^[^\\s@]+@(?:[a-z0-9-]+\\.)+[a-z]{2,}$')\n",
        "assert rexp.match('example@example.com') is not None"
      ]
    },
    {
      "cell_type": "markdown",
      "metadata": {
        "id": "cKL8mUgWsKtO"
      },
      "source": [
        "4. Write a regular expression that matches a string that starts with a word, followed by one or more whitespace characters, followed by another word. For example, the string \"hello world\" should match."
      ]
    },
    {
      "cell_type": "code",
      "execution_count": 6,
      "metadata": {
        "id": "6CL47G4GsKtO"
      },
      "outputs": [],
      "source": [
        "import re\n",
        "\n",
        "rexp = re.compile(r'^\\w+\\s+\\w+$')\n",
        "assert rexp.match('hello world') is not None"
      ]
    },
    {
      "cell_type": "markdown",
      "metadata": {
        "id": "7lfzXgJtsKtO"
      },
      "source": [
        "5. Write a regular expression that matches a string that contains a number with exactly two decimal places. For example, the string \"1.23\" should match, but the string \"1.234\" should not match."
      ]
    },
    {
      "cell_type": "code",
      "execution_count": 9,
      "metadata": {
        "id": "ReC1EKfJsKtP"
      },
      "outputs": [],
      "source": [
        "import re\n",
        "\n",
        "rexp = re.compile(r'^\\d+\\.\\d{2}$')\n",
        "assert rexp.match('1.23') is not None\n",
        "assert rexp.match('1.234') is None"
      ]
    }
  ],
  "metadata": {
    "kernelspec": {
      "display_name": "Python 3",
      "language": "python",
      "name": "python3"
    },
    "language_info": {
      "name": "python",
      "version": "3.10.9 (tags/v3.10.9:1dd9be6, Dec  6 2022, 20:01:21) [MSC v.1934 64 bit (AMD64)]"
    },
    "orig_nbformat": 4,
    "vscode": {
      "interpreter": {
        "hash": "f7a5be651532581cb44625d52e18aa1d390cab54bc6b51099d8c30bea9b68219"
      }
    },
    "colab": {
      "provenance": []
    }
  },
  "nbformat": 4,
  "nbformat_minor": 0
}